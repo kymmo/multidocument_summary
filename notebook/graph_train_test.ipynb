{
 "cells": [
  {
   "cell_type": "markdown",
   "metadata": {},
   "source": [
    "## GAT training test"
   ]
  },
  {
   "cell_type": "code",
   "execution_count": 7,
   "metadata": {},
   "outputs": [],
   "source": [
    "import torch\n",
    "import torch.nn.functional as F\n",
    "from torch_geometric.utils import from_networkx\n",
    "import networkx as nx\n",
    "from torch_geometric.nn import GATConv"
   ]
  },
  {
   "cell_type": "code",
   "execution_count": 8,
   "metadata": {},
   "outputs": [],
   "source": [
    "# 1. 加载 Karate Club 数据集\n",
    "G = nx.karate_club_graph()\n",
    "\n",
    "# 为节点添加特征（这里使用节点的度作为特征）\n",
    "for node in G.nodes:\n",
    "    G.nodes[node]['feature'] = float(G.degree(node))\n",
    "\n",
    "# 为节点添加标签（这里使用俱乐部分组作为标签）\n",
    "# Karate Club 图中，节点 0 和 33 属于不同的组\n",
    "labels = [0 if G.nodes[node]['club'] == 'Mr. Hi' else 1 for node in G.nodes]\n",
    "\n",
    "# 2. 将 NetworkX 图转换为 PyG 的 Data 对象\n",
    "data = from_networkx(G)\n",
    "\n",
    "# 添加节点特征和标签\n",
    "data.x = torch.tensor([[G.nodes[node]['feature']] for node in G.nodes], dtype=torch.float)\n",
    "data.y = torch.tensor(labels, dtype=torch.long)\n",
    "\n",
    "# 添加训练、验证和测试掩码\n",
    "data.train_mask = torch.zeros(data.num_nodes, dtype=torch.bool)\n",
    "data.val_mask = torch.zeros(data.num_nodes, dtype=torch.bool)\n",
    "data.test_mask = torch.zeros(data.num_nodes, dtype=torch.bool)\n",
    "\n",
    "# 随机分配训练、验证和测试集\n",
    "torch.manual_seed(42)  # 设置随机种子以确保可重复性\n",
    "indices = torch.randperm(data.num_nodes)\n",
    "data.train_mask[indices[:23]] = True  # 25 个节点作为训练集\n",
    "data.val_mask[indices[23:28]] = True  # 5 个节点作为验证集\n",
    "data.test_mask[indices[28:]] = True   # 4 个节点作为测试集"
   ]
  },
  {
   "cell_type": "code",
   "execution_count": 9,
   "metadata": {},
   "outputs": [],
   "source": [
    "# 3. 定义 GAT 模型\n",
    "class GAT(torch.nn.Module):\n",
    "     def __init__(self, num_features, hidden_channels, num_classes, heads=8):\n",
    "          super(GAT, self).__init__()\n",
    "          # 第一层 GAT\n",
    "          self.conv1 = GATConv(num_features, hidden_channels, heads=heads, dropout=0.6)\n",
    "          # 第二层 GAT\n",
    "          self.conv2 = GATConv(hidden_channels * heads, num_classes, heads=1, dropout=0.6)\n",
    "\n",
    "     def forward(self, x, edge_index):\n",
    "          # 第一层 GAT\n",
    "          x = F.dropout(x, p=0.6, training=self.training)\n",
    "          x = F.elu(self.conv1(x, edge_index))\n",
    "          # 第二层 GAT\n",
    "          x = F.dropout(x, p=0.6, training=self.training)\n",
    "          x = self.conv2(x, edge_index)\n",
    "          return F.log_softmax(x, dim=1)"
   ]
  },
  {
   "cell_type": "code",
   "execution_count": 10,
   "metadata": {},
   "outputs": [
    {
     "name": "stdout",
     "output_type": "stream",
     "text": [
      "Epoch: 010, Loss: 1.5883, Test Acc: 0.1667\n",
      "Epoch: 020, Loss: 0.6044, Test Acc: 0.1667\n",
      "Epoch: 030, Loss: 0.6899, Test Acc: 0.1667\n",
      "Epoch: 040, Loss: 0.9501, Test Acc: 0.8333\n",
      "Epoch: 050, Loss: 1.0601, Test Acc: 0.8333\n",
      "Epoch: 060, Loss: 0.6902, Test Acc: 0.1667\n",
      "Epoch: 070, Loss: 0.7848, Test Acc: 0.1667\n",
      "Epoch: 080, Loss: 0.7158, Test Acc: 0.0000\n",
      "Epoch: 090, Loss: 0.6514, Test Acc: 0.8333\n",
      "Epoch: 100, Loss: 0.6666, Test Acc: 0.1667\n",
      "Epoch: 110, Loss: 0.9351, Test Acc: 0.1667\n",
      "Epoch: 120, Loss: 0.7712, Test Acc: 0.8333\n",
      "Epoch: 130, Loss: 0.7822, Test Acc: 0.1667\n",
      "Epoch: 140, Loss: 0.6457, Test Acc: 0.1667\n",
      "Epoch: 150, Loss: 0.6809, Test Acc: 0.1667\n",
      "Epoch: 160, Loss: 0.8148, Test Acc: 0.1667\n",
      "Epoch: 170, Loss: 0.6798, Test Acc: 0.1667\n",
      "Epoch: 180, Loss: 0.7487, Test Acc: 0.1667\n",
      "Epoch: 190, Loss: 0.7904, Test Acc: 0.1667\n",
      "Epoch: 200, Loss: 0.7713, Test Acc: 0.6667\n"
     ]
    }
   ],
   "source": [
    "# 4. 初始化模型和优化器\n",
    "device = torch.device('cuda' if torch.cuda.is_available() else 'cpu')\n",
    "\n",
    "model = GAT(\n",
    "     num_features=1,          # 输入特征维度（每个节点只有一个特征：度）\n",
    "     hidden_channels=8,       # 隐藏层维度\n",
    "     num_classes=2,           # 输出类别数（两个组）\n",
    "     heads=8                  # 注意力头数\n",
    ").to(device)\n",
    "\n",
    "# 将数据移动到设备\n",
    "data = data.to(device)\n",
    "\n",
    "# 定义优化器\n",
    "optimizer = torch.optim.Adam(model.parameters(), lr=0.005, weight_decay=5e-4)\n",
    "\n",
    "# 5. 训练函数\n",
    "def train():\n",
    "     model.train()\n",
    "     optimizer.zero_grad()\n",
    "     out = model(data.x, data.edge_index)  # 前向传播\n",
    "     loss = F.nll_loss(out[data.train_mask], data.y[data.train_mask])  # 计算损失\n",
    "     loss.backward()  # 反向传播\n",
    "     optimizer.step()  # 更新参数\n",
    "     return loss.item()\n",
    "\n",
    "# 6. 测试函数\n",
    "def test():\n",
    "     model.eval()\n",
    "     out = model(data.x, data.edge_index)\n",
    "     pred = out.argmax(dim=1)  # 获取预测类别\n",
    "     correct = pred[data.test_mask] == data.y[data.test_mask]  # 计算正确预测数\n",
    "     acc = int(correct.sum()) / int(data.test_mask.sum())  # 计算准确率\n",
    "     return acc\n",
    "\n",
    "# 7. 训练和测试\n",
    "for epoch in range(1, 201):\n",
    "     loss = train()\n",
    "     if epoch % 10 == 0:\n",
    "          acc = test()\n",
    "          print(f'Epoch: {epoch:03d}, Loss: {loss:.4f}, Test Acc: {acc:.4f}')"
   ]
  }
 ],
 "metadata": {
  "kernelspec": {
   "display_name": "coreferee_env",
   "language": "python",
   "name": "python3"
  },
  "language_info": {
   "codemirror_mode": {
    "name": "ipython",
    "version": 3
   },
   "file_extension": ".py",
   "mimetype": "text/x-python",
   "name": "python",
   "nbconvert_exporter": "python",
   "pygments_lexer": "ipython3",
   "version": "3.9.21"
  }
 },
 "nbformat": 4,
 "nbformat_minor": 2
}
