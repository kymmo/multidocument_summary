{
 "cells": [
  {
   "cell_type": "code",
   "execution_count": 1,
   "metadata": {},
   "outputs": [],
   "source": [
    "%load_ext autoreload\n",
    "%autoreload 2"
   ]
  },
  {
   "cell_type": "code",
   "execution_count": 2,
   "metadata": {},
   "outputs": [
    {
     "name": "stderr",
     "output_type": "stream",
     "text": [
      "e:\\anaconda\\envs\\coreferee_env\\lib\\site-packages\\tqdm\\auto.py:21: TqdmWarning: IProgress not found. Please update jupyter and ipywidgets. See https://ipywidgets.readthedocs.io/en/stable/user_install.html\n",
      "  from .autonotebook import tqdm as notebook_tqdm\n"
     ]
    }
   ],
   "source": [
    "from utils.data_preprocess_utils import load_jsonl, define_node_edge,extract_keywords\n",
    "import os"
   ]
  },
  {
   "cell_type": "code",
   "execution_count": 3,
   "metadata": {},
   "outputs": [],
   "source": [
    "path = os.path.join(\"..\", \"data\",\"multinews\", \"test.jsonl\")"
   ]
  },
  {
   "cell_type": "code",
   "execution_count": 8,
   "metadata": {},
   "outputs": [],
   "source": [
    "documents_list,summary_list = load_jsonl(path)"
   ]
  },
  {
   "cell_type": "code",
   "execution_count": null,
   "metadata": {},
   "outputs": [
    {
     "name": "stderr",
     "output_type": "stream",
     "text": [
      "[autoreload of utils.data_preprocess_utils failed: Traceback (most recent call last):\n",
      "  File \"e:\\anaconda\\envs\\coreferee_env\\lib\\site-packages\\IPython\\extensions\\autoreload.py\", line 276, in check\n",
      "    superreload(m, reload, self.old_objects)\n",
      "  File \"e:\\anaconda\\envs\\coreferee_env\\lib\\site-packages\\IPython\\extensions\\autoreload.py\", line 475, in superreload\n",
      "    module = reload(module)\n",
      "  File \"e:\\anaconda\\envs\\coreferee_env\\lib\\importlib\\__init__.py\", line 169, in reload\n",
      "    _bootstrap._exec(spec, module)\n",
      "  File \"<frozen importlib._bootstrap>\", line 613, in _exec\n",
      "  File \"<frozen importlib._bootstrap_external>\", line 850, in exec_module\n",
      "  File \"<frozen importlib._bootstrap>\", line 228, in _call_with_frames_removed\n",
      "  File \"D:\\project\\python\\multidocument_summary\\src\\utils\\data_preprocess_utils.py\", line 11, in <module>\n",
      "    nlp_sm = spacy.load(\"en_core_web_lg\")\n",
      "  File \"e:\\anaconda\\envs\\coreferee_env\\lib\\site-packages\\spacy\\__init__.py\", line 54, in load\n",
      "    return util.load_model(\n",
      "  File \"e:\\anaconda\\envs\\coreferee_env\\lib\\site-packages\\spacy\\util.py\", line 432, in load_model\n",
      "    return load_model_from_package(name, **kwargs)  # type: ignore[arg-type]\n",
      "  File \"e:\\anaconda\\envs\\coreferee_env\\lib\\site-packages\\spacy\\util.py\", line 468, in load_model_from_package\n",
      "    return cls.load(vocab=vocab, disable=disable, enable=enable, exclude=exclude, config=config)  # type: ignore[attr-defined]\n",
      "KeyboardInterrupt\n",
      "]\n"
     ]
    }
   ],
   "source": [
    "define_node_edge(documents_list)"
   ]
  },
  {
   "cell_type": "code",
   "execution_count": 8,
   "metadata": {},
   "outputs": [],
   "source": [
    "from keybert import KeyBERT\n",
    "\n",
    "kw_model = KeyBERT()\n",
    "docs = [\n",
    "     \"i am a women.\", \"i like bike.\", \"third one, dont hesitate!\"\n",
    "]"
   ]
  },
  {
   "cell_type": "code",
   "execution_count": 9,
   "metadata": {},
   "outputs": [
    {
     "name": "stdout",
     "output_type": "stream",
     "text": [
      "[[('women', 0.5615)], [('bike', 0.7324), ('like', 0.2484)], [('hesitate', 0.6207), ('dont', 0.2868)]]\n"
     ]
    }
   ],
   "source": [
    "keywords = kw_model.extract_keywords(docs)\n",
    "print(keywords)"
   ]
  },
  {
   "cell_type": "code",
   "execution_count": 50,
   "metadata": {},
   "outputs": [],
   "source": [
    "docs2 = [\n",
    "     [[\"i am a women. i am so guy.\"], [\"i like bike.\"], [\"i like eda. third one, dont hesitate!\"]],\n",
    "     [[\"i am a women.\"], [\"i like bike.\"], [\"third one, dont hesitate!\"]],\n",
    "]"
   ]
  },
  {
   "cell_type": "code",
   "execution_count": 19,
   "metadata": {},
   "outputs": [
    {
     "name": "stdout",
     "output_type": "stream",
     "text": [
      "['i am a women.', 'i like bike.', 'third one, dont hesitate!']\n"
     ]
    }
   ],
   "source": [
    "docs3 = [item[0] for item in docs2[0]]\n",
    "print(docs3)"
   ]
  },
  {
   "cell_type": "code",
   "execution_count": 25,
   "metadata": {},
   "outputs": [
    {
     "name": "stdout",
     "output_type": "stream",
     "text": [
      "[[[('women', 0.5615)], [('bike', 0.7324), ('like', 0.2484)], [('hesitate', 0.6207), ('dont', 0.2868)]], [[('women', 0.5615)], [('bike', 0.7324), ('like', 0.2484)], [('hesitate', 0.6207), ('dont', 0.2868)]]]\n"
     ]
    }
   ],
   "source": [
    "kw2 = extract_keywords(docs2)\n",
    "print(kw2)"
   ]
  },
  {
   "cell_type": "code",
   "execution_count": 52,
   "metadata": {},
   "outputs": [
    {
     "name": "stdout",
     "output_type": "stream",
     "text": [
      "[[[('women', 0.4553), ('guy', 0.3328)], [('bike', 0.7324), ('like', 0.2484)], [('eda', 0.6873), ('hesitate', 0.2526)]], [[('women', 0.5615)], [('bike', 0.7324), ('like', 0.2484)], [('hesitate', 0.6207), ('dont', 0.2868)]]]\n"
     ]
    }
   ],
   "source": [
    "kw3 = extract_keywords(docs2)\n",
    "print(kw3)"
   ]
  },
  {
   "cell_type": "code",
   "execution_count": 27,
   "metadata": {},
   "outputs": [],
   "source": [
    "from utils.data_preprocess_utils import split_sentences, coref_resolve"
   ]
  },
  {
   "cell_type": "code",
   "execution_count": 31,
   "metadata": {},
   "outputs": [
    {
     "data": {
      "text/plain": [
       "[[['i am a women.', 'i am so guy.'],\n",
       "  ['i like bike.'],\n",
       "  ['i like eda.', 'third one, dont hesitate!']],\n",
       " [['i am a women.'], ['i like bike.'], ['third one, dont hesitate!']]]"
      ]
     },
     "execution_count": 31,
     "metadata": {},
     "output_type": "execute_result"
    }
   ],
   "source": [
    "split_sentences(docs2)"
   ]
  },
  {
   "cell_type": "code",
   "execution_count": 39,
   "metadata": {},
   "outputs": [],
   "source": [
    "import spacy\n",
    "nlp = spacy.load('en_core_web_sm')"
   ]
  },
  {
   "cell_type": "code",
   "execution_count": 46,
   "metadata": {},
   "outputs": [
    {
     "data": {
      "text/plain": [
       "([[['National Archives     Yes, it’s that time again, folks. It’s the first Friday of the month, when for one ever-so-brief moment the interests of Wall Street, Washington and Main Street are all aligned on one thing: Jobs.     A fresh update on the U.S. employment situation for January hits the wires at 8:30 a.m. New York time offering one of the most important snapshots on how the economy fared during the previous month. Expectations are for 203,000 new jobs to be created, according to economists polled by Dow Jones Newswires, compared to 227,000 jobs added in February. The unemployment rate is expected to hold steady at 8.3%.     Here at MarketBeat HQ, we’ll be offering color commentary before and after the data crosses the wires. Feel free to weigh-in yourself, via the comments section. And while you’re here, why don’t you sign up to follow us on Twitter.     Enjoy the show.'],\n",
       "   ['Employers pulled back sharply on hiring last month, a reminder that the U.S. economy may not be growing fast enough to sustain robust job growth. The unemployment rate dipped, but mostly because more Americans stopped looking for work.     The Labor Department says the economy added 120,000 jobs in March, down from more than 200,000 in each of the previous three months.     The unemployment rate fell to 8.2 percent, the lowest since January 2009. The rate dropped because fewer people searched for jobs. The official unemployment tally only includes those seeking work.     The economy has added 858,000 jobs since December _ the best four months of hiring in two years. But Federal Reserve Chairman Ben Bernanke has cautioned that the current hiring pace is unlikely to continue without more consumer spending.']],\n",
       "  [['LOS ANGELES (AP) — In her first interview since the NBA banned her estranged husband, Shelly Sterling says she will fight to keep her share of the Los Angeles Clippers and plans one day to divorce Donald Sterling.     (Click Prev or Next to continue viewing images.)     ADVERTISEMENT (Click Prev or Next to continue viewing images.)     Los Angeles Clippers co-owner Shelly Sterling, below, watches the Clippers play the Oklahoma City Thunder along with her attorney, Pierce O\\'Donnell, in the first half of Game 3 of the Western Conference... (Associated Press)     Shelly Sterling spoke to Barbara Walters, and ABC News posted a short story with excerpts from the conversation Sunday.     NBA Commissioner Adam Silver has banned Donald Sterling for making racist comments and urged owners to force Sterling to sell the team. Silver added that no decisions had been made about the rest of Sterling\\'s family.     According to ABC\\'s story, Shelly Sterling told Walters: \"I will fight that decision.\"     Sterling also said that she \"eventually\" will divorce her husband, and that she hadn\\'t yet done so due to financial considerations.'],\n",
       "   ['Shelly Sterling said today that \"eventually, I am going to\" divorce her estranged husband, Donald Sterling, and if the NBA tries to force her to sell her half of the Los Angeles Clippers, she would \"absolutely\" fight to keep her stake in the team.     \"I will fight that decision,\" she told ABC News\\' Barbara Walters today in an exclusive interview. \"To be honest with you, I\\'m wondering if a wife of one of the owners, and there\\'s 30 owners, did something like that, said those racial slurs, would they oust the husband? Or would they leave the husband in?\"     Sterling added that the Clippers franchise is her \"passion\" and \"legacy to my family.\"     \"I\\'ve been with the team for 33 years, through the good times and the bad times,\" she added.     These comments come nearly two weeks after NBA Commissioner Adam Silver announced a lifetime ban and a $2.5 million fine for Donald Sterling on April 29, following racist comments from the 80-year-old, which were caught on tape and released to the media.     Read: Barbara Walters\\' Exclusive Interview With V. Stiviano     Being estranged from her husband, Shelly Sterling said she would \"have to accept\" whatever punishment the NBA handed down to him, but that her stake in the team should be separate.     \"I was shocked by what he said. And -- well, I guess whatever their decision is -- we have to live with it,\" she said. \"But I don\\'t know why I should be punished for what his actions were.\"     An NBA spokesman said this evening that league rules would not allow her tol hold on to her share.     \"Under the NBA Constitution, if a controlling owner\\'s interest is terminated by a 3/4 vote, all other team owners\\' interests are automatically terminated as well,\" NBA spokesman Mike Bass said. \"It doesn\\'t matter whether the owners are related as is the case here. These are the rules to which all NBA owners agreed to as a condition of owning their team.\"     Sherry Sterling\\'s lawyer, Pierce O\\'Donnell, disputed the league\\'s reading of its constitution.     \"We do not agree with the league\\'s self-serving interpretation of its constitution, its application to Shelly Sterling or its validity under these unique circumstances,\" O\\'Donnell said in a statement released this evening in reposnse the NBA. \"We live in a nation of laws. California law and the United States Constitution trump any such interpretation.\"     If the league decides to force Donald Sterling to sell his half of the team, Shelly Sterling doesn\\'t know what he will do, but the possibility of him transferring full ownership to her is something she \"would love him to\" consider.     Related: NBA Bans Clippers Owner Donald Sterling For Life     \"I haven\\'t discussed it with him or talked to him about it,\" she said.     The lack of communication between Rochelle and Donald Sterling led Walters to question whether she plans to file for divorce.     \"For the last 20 years, I\\'ve been seeing attorneys for a divorce,\" she said, laughing. \"In fact, I have here-- I just filed-- I was going to file the petition. I signed the petition for a divorce. And it came to almost being filed. And then, my financial advisor and my attorney said to me, \\'Not now.\\'\"     Sterling added that she thinks the stalling of the divorce stems from \"financial arrangements.\"     But she said \"Eventually, I\\'m going to.\"     She also told Walters she thinks her estranged husband is suffering from \"the onset of dementia.\"     Since Donald Sterling\\'s ban, several celebrities have said they would be willing to buy the team from Sterling, including Oprah Winfrey and Magic Johnson. Sterling remains the owner, though his ban means he can have nothing to do with running the team and can\\'t attend any games.     Silver announced Friday that former Citigroup chairman and former Time Warner chairman Richard Parsons has been named interim CEO of the team, but nothing concrete in terms of ownership or whether Sterling will be forced to sell the team. Parsons will now take over the basic daily operations for the team and oversee the team\\'s president.     Read: What You Need to Know This Week About Donald Sterling     ABC News contacted Donald Sterling for comment on his wife\\'s interview, but he declined.']]],\n",
       " ['– The unemployment rate dropped to 8.2% last month, but the economy only added 120,000 jobs, when 203,000 new jobs had been predicted, according to today\\'s jobs report. Reaction on the Wall Street Journal\\'s MarketBeat Blog was swift: \"Woah!!! Bad number.\" The unemployment rate, however, is better news; it had been expected to hold steady at 8.3%. But the AP notes that the dip is mostly due to more Americans giving up on seeking employment.',\n",
       "  '– Shelly Sterling plans \"eventually\" to divorce her estranged husband Donald, she tells Barbara Walters at ABC News. As for her stake in the Los Angeles Clippers, she plans to keep it, the AP notes. Sterling says she would \"absolutely\" fight any NBA decision to force her to sell the team. The team is her \"legacy\" to her family, she says. \"To be honest with you, I\\'m wondering if a wife of one of the owners … said those racial slurs, would they oust the husband? Or would they leave the husband in?\"'])"
      ]
     },
     "execution_count": 46,
     "metadata": {},
     "output_type": "execute_result"
    }
   ],
   "source": [
    "documents_list"
   ]
  },
  {
   "cell_type": "code",
   "execution_count": 48,
   "metadata": {},
   "outputs": [],
   "source": [
    "doc4 = [\n",
    "     \"This is the first document. It has two sentences.\",\n",
    "     \"Here's the second document. It also contains two sentences.\"\n",
    "]"
   ]
  },
  {
   "cell_type": "code",
   "execution_count": 5,
   "metadata": {},
   "outputs": [],
   "source": [
    "from utils.data_preprocess_utils import coref_resolve"
   ]
  },
  {
   "cell_type": "code",
   "execution_count": 9,
   "metadata": {},
   "outputs": [
    {
     "name": "stdout",
     "output_type": "stream",
     "text": [
      "doc to solve:  ['National Archives     Yes, it’s that time again, folks. It’s the first Friday of the month, when for one ever-so-brief moment the interests of Wall Street, Washington and Main Street are all aligned on one thing: Jobs.     A fresh update on the U.S. employment situation for January hits the wires at 8:30 a.m. New York time offering one of the most important snapshots on how the economy fared during the previous month. Expectations are for 203,000 new jobs to be created, according to economists polled by Dow Jones Newswires, compared to 227,000 jobs added in February. The unemployment rate is expected to hold steady at 8.3%.     Here at MarketBeat HQ, we’ll be offering color commentary before and after the data crosses the wires. Feel free to weigh-in yourself, via the comments section. And while you’re here, why don’t you sign up to follow us on Twitter.     Enjoy the show.']\n",
      "doc to solve:  ['Employers pulled back sharply on hiring last month, a reminder that the U.S. economy may not be growing fast enough to sustain robust job growth. The unemployment rate dipped, but mostly because more Americans stopped looking for work.     The Labor Department says the economy added 120,000 jobs in March, down from more than 200,000 in each of the previous three months.     The unemployment rate fell to 8.2 percent, the lowest since January 2009. The rate dropped because fewer people searched for jobs. The official unemployment tally only includes those seeking work.     The economy has added 858,000 jobs since December _ the best four months of hiring in two years. But Federal Reserve Chairman Ben Bernanke has cautioned that the current hiring pace is unlikely to continue without more consumer spending.']\n",
      "doc to solve:  ['LOS ANGELES (AP) — In her first interview since the NBA banned her estranged husband, Shelly Sterling says she will fight to keep her share of the Los Angeles Clippers and plans one day to divorce Donald Sterling.     (Click Prev or Next to continue viewing images.)     ADVERTISEMENT (Click Prev or Next to continue viewing images.)     Los Angeles Clippers co-owner Shelly Sterling, below, watches the Clippers play the Oklahoma City Thunder along with her attorney, Pierce O\\'Donnell, in the first half of Game 3 of the Western Conference... (Associated Press)     Shelly Sterling spoke to Barbara Walters, and ABC News posted a short story with excerpts from the conversation Sunday.     NBA Commissioner Adam Silver has banned Donald Sterling for making racist comments and urged owners to force Sterling to sell the team. Silver added that no decisions had been made about the rest of Sterling\\'s family.     According to ABC\\'s story, Shelly Sterling told Walters: \"I will fight that decision.\"     Sterling also said that she \"eventually\" will divorce her husband, and that she hadn\\'t yet done so due to financial considerations.']\n",
      "doc to solve:  ['Shelly Sterling said today that \"eventually, I am going to\" divorce her estranged husband, Donald Sterling, and if the NBA tries to force her to sell her half of the Los Angeles Clippers, she would \"absolutely\" fight to keep her stake in the team.     \"I will fight that decision,\" she told ABC News\\' Barbara Walters today in an exclusive interview. \"To be honest with you, I\\'m wondering if a wife of one of the owners, and there\\'s 30 owners, did something like that, said those racial slurs, would they oust the husband? Or would they leave the husband in?\"     Sterling added that the Clippers franchise is her \"passion\" and \"legacy to my family.\"     \"I\\'ve been with the team for 33 years, through the good times and the bad times,\" she added.     These comments come nearly two weeks after NBA Commissioner Adam Silver announced a lifetime ban and a $2.5 million fine for Donald Sterling on April 29, following racist comments from the 80-year-old, which were caught on tape and released to the media.     Read: Barbara Walters\\' Exclusive Interview With V. Stiviano     Being estranged from her husband, Shelly Sterling said she would \"have to accept\" whatever punishment the NBA handed down to him, but that her stake in the team should be separate.     \"I was shocked by what he said. And -- well, I guess whatever their decision is -- we have to live with it,\" she said. \"But I don\\'t know why I should be punished for what his actions were.\"     An NBA spokesman said this evening that league rules would not allow her tol hold on to her share.     \"Under the NBA Constitution, if a controlling owner\\'s interest is terminated by a 3/4 vote, all other team owners\\' interests are automatically terminated as well,\" NBA spokesman Mike Bass said. \"It doesn\\'t matter whether the owners are related as is the case here. These are the rules to which all NBA owners agreed to as a condition of owning their team.\"     Sherry Sterling\\'s lawyer, Pierce O\\'Donnell, disputed the league\\'s reading of its constitution.     \"We do not agree with the league\\'s self-serving interpretation of its constitution, its application to Shelly Sterling or its validity under these unique circumstances,\" O\\'Donnell said in a statement released this evening in reposnse the NBA. \"We live in a nation of laws. California law and the United States Constitution trump any such interpretation.\"     If the league decides to force Donald Sterling to sell his half of the team, Shelly Sterling doesn\\'t know what he will do, but the possibility of him transferring full ownership to her is something she \"would love him to\" consider.     Related: NBA Bans Clippers Owner Donald Sterling For Life     \"I haven\\'t discussed it with him or talked to him about it,\" she said.     The lack of communication between Rochelle and Donald Sterling led Walters to question whether she plans to file for divorce.     \"For the last 20 years, I\\'ve been seeing attorneys for a divorce,\" she said, laughing. \"In fact, I have here-- I just filed-- I was going to file the petition. I signed the petition for a divorce. And it came to almost being filed. And then, my financial advisor and my attorney said to me, \\'Not now.\\'\"     Sterling added that she thinks the stalling of the divorce stems from \"financial arrangements.\"     But she said \"Eventually, I\\'m going to.\"     She also told Walters she thinks her estranged husband is suffering from \"the onset of dementia.\"     Since Donald Sterling\\'s ban, several celebrities have said they would be willing to buy the team from Sterling, including Oprah Winfrey and Magic Johnson. Sterling remains the owner, though his ban means he can have nothing to do with running the team and can\\'t attend any games.     Silver announced Friday that former Citigroup chairman and former Time Warner chairman Richard Parsons has been named interim CEO of the team, but nothing concrete in terms of ownership or whether Sterling will be forced to sell the team. Parsons will now take over the basic daily operations for the team and oversee the team\\'s president.     Read: What You Need to Know This Week About Donald Sterling     ABC News contacted Donald Sterling for comment on his wife\\'s interview, but he declined.']\n"
     ]
    },
    {
     "data": {
      "text/plain": [
       "[[[[(0, 0, 'Yes, it’s that time again, folks.'),\n",
       "    (0,\n",
       "     0,\n",
       "     'It’s the first Friday of the month, when for one ever-so-brief moment the interests of Wall Street, Washington and Main Street are all aligned on one thing: Jobs.     ')]],\n",
       "  [[(0,\n",
       "     1,\n",
       "     'Employers pulled back sharply on hiring last month, a reminder that the U.S. economy may not be growing fast enough to sustain robust job growth.'),\n",
       "    (0,\n",
       "     1,\n",
       "     'The Labor Department says the economy added 120,000 jobs in March, down from more than 200,000 in each of the previous three months.     ')],\n",
       "   [(0,\n",
       "     1,\n",
       "     'The unemployment rate fell to 8.2 percent, the lowest since January 2009.'),\n",
       "    (0, 1, 'The rate dropped because fewer people searched for jobs.')]]],\n",
       " [[[(1, 0, 'LOS ANGELES (AP) —'),\n",
       "    (1,\n",
       "     0,\n",
       "     'In her first interview since the NBA banned her estranged husband, Shelly Sterling says she will fight to keep her share of the Los Angeles Clippers and plans one day to divorce Donald Sterling.     ')],\n",
       "   [(1,\n",
       "     0,\n",
       "     'In her first interview since the NBA banned her estranged husband, Shelly Sterling says she will fight to keep her share of the Los Angeles Clippers and plans one day to divorce Donald Sterling.     '),\n",
       "    (1,\n",
       "     0,\n",
       "     \"Los Angeles Clippers co-owner Shelly Sterling, below, watches the Clippers play the Oklahoma City Thunder along with her attorney, Pierce O'Donnell, in the first half of Game 3 of the Western Conference... (Associated Press)     \")],\n",
       "   [(1, 0, '(Click Prev or Next to continue viewing images.)     '),\n",
       "    (1,\n",
       "     0,\n",
       "     'ADVERTISEMENT (Click Prev or Next to continue viewing images.)     ')],\n",
       "   [(1,\n",
       "     0,\n",
       "     \"Los Angeles Clippers co-owner Shelly Sterling, below, watches the Clippers play the Oklahoma City Thunder along with her attorney, Pierce O'Donnell, in the first half of Game 3 of the Western Conference... (Associated Press)     \"),\n",
       "    (1,\n",
       "     0,\n",
       "     'Shelly Sterling spoke to Barbara Walters, and ABC News posted a short story with excerpts from the conversation Sunday.     ')],\n",
       "   [(1,\n",
       "     0,\n",
       "     'NBA Commissioner Adam Silver has banned Donald Sterling for making racist comments and urged owners to force Sterling to sell the team.'),\n",
       "    (1,\n",
       "     0,\n",
       "     \"Silver added that no decisions had been made about the rest of Sterling's family.     \")],\n",
       "   [(1,\n",
       "     0,\n",
       "     'According to ABC\\'s story, Shelly Sterling told Walters: \"I will fight that decision.\"     '),\n",
       "    (1,\n",
       "     0,\n",
       "     'Sterling also said that she \"eventually\" will divorce her husband, and that she hadn\\'t yet done so due to financial considerations.')],\n",
       "   [(1,\n",
       "     0,\n",
       "     'According to ABC\\'s story, Shelly Sterling told Walters: \"I will fight that decision.\"     '),\n",
       "    (1,\n",
       "     0,\n",
       "     'Sterling also said that she \"eventually\" will divorce her husband, and that she hadn\\'t yet done so due to financial considerations.')]],\n",
       "  [[(1,\n",
       "     1,\n",
       "     'Shelly Sterling said today that \"eventually, I am going to\" divorce her estranged husband, Donald Sterling, and if the NBA tries to force her to sell her half of the Los Angeles Clippers, she would \"absolutely\" fight to keep her stake in the team.     '),\n",
       "    (1,\n",
       "     1,\n",
       "     '\"I will fight that decision,\" she told ABC News\\' Barbara Walters today in an exclusive interview.'),\n",
       "    (1,\n",
       "     1,\n",
       "     'Sterling added that the Clippers franchise is her \"passion\" and \"legacy to my family.\"     '),\n",
       "    (1,\n",
       "     1,\n",
       "     '\"I\\'ve been with the team for 33 years, through the good times and the bad times,\" she added.     ')],\n",
       "   [(1,\n",
       "     1,\n",
       "     '\"To be honest with you, I\\'m wondering if a wife of one of the owners, and there\\'s 30 owners, did something like that, said those racial slurs, would they oust the husband?'),\n",
       "    (1, 1, 'Or would they leave the husband in?\"     ')],\n",
       "   [(1,\n",
       "     1,\n",
       "     '\"To be honest with you, I\\'m wondering if a wife of one of the owners, and there\\'s 30 owners, did something like that, said those racial slurs, would they oust the husband?'),\n",
       "    (1, 1, 'Or would they leave the husband in?\"     '),\n",
       "    (1, 1, '\"I was shocked by what he said.'),\n",
       "    (1,\n",
       "     1,\n",
       "     '\"But I don\\'t know why I should be punished for what his actions were.\"     ')],\n",
       "   [(1,\n",
       "     1,\n",
       "     '\"I\\'ve been with the team for 33 years, through the good times and the bad times,\" she added.     '),\n",
       "    (1,\n",
       "     1,\n",
       "     'Read: Barbara Walters\\' Exclusive Interview With V. Stiviano     Being estranged from her husband, Shelly Sterling said she would \"have to accept\" whatever punishment the NBA handed down to him, but that her stake in the team should be separate.     ')],\n",
       "   [(1,\n",
       "     1,\n",
       "     '\"I\\'ve been with the team for 33 years, through the good times and the bad times,\" she added.     '),\n",
       "    (1,\n",
       "     1,\n",
       "     'And -- well, I guess whatever their decision is -- we have to live with it,\" she said.')],\n",
       "   [(1,\n",
       "     1,\n",
       "     'Read: Barbara Walters\\' Exclusive Interview With V. Stiviano     Being estranged from her husband, Shelly Sterling said she would \"have to accept\" whatever punishment the NBA handed down to him, but that her stake in the team should be separate.     '),\n",
       "    (1,\n",
       "     1,\n",
       "     'And -- well, I guess whatever their decision is -- we have to live with it,\" she said.')],\n",
       "   [(1,\n",
       "     1,\n",
       "     '\"Under the NBA Constitution, if a controlling owner\\'s interest is terminated by a 3/4 vote, all other team owners\\' interests are automatically terminated as well,\" NBA spokesman Mike Bass said.'),\n",
       "    (1,\n",
       "     1,\n",
       "     '\"It doesn\\'t matter whether the owners are related as is the case here.')],\n",
       "   [(1,\n",
       "     1,\n",
       "     \"Sherry Sterling's lawyer, Pierce O'Donnell, disputed the league's reading of its constitution.     \"),\n",
       "    (1,\n",
       "     1,\n",
       "     'If the league decides to force Donald Sterling to sell his half of the team, Shelly Sterling doesn\\'t know what he will do, but the possibility of him transferring full ownership to her is something she \"would love him to\" consider.     '),\n",
       "    (1,\n",
       "     1,\n",
       "     'Related: NBA Bans Clippers Owner Donald Sterling For Life     \"I haven\\'t discussed it with him or talked to him about it,\" she said.     ')],\n",
       "   [(1,\n",
       "     1,\n",
       "     \"Sherry Sterling's lawyer, Pierce O'Donnell, disputed the league's reading of its constitution.     \"),\n",
       "    (1,\n",
       "     1,\n",
       "     '\"We do not agree with the league\\'s self-serving interpretation of its constitution, its application to Shelly Sterling or its validity under these unique circumstances,\" O\\'Donnell said in a statement released this evening in reposnse the NBA.')],\n",
       "   [(1,\n",
       "     1,\n",
       "     'California law and the United States Constitution trump any such interpretation.\"     '),\n",
       "    (1,\n",
       "     1,\n",
       "     'Related: NBA Bans Clippers Owner Donald Sterling For Life     \"I haven\\'t discussed it with him or talked to him about it,\" she said.     ')],\n",
       "   [(1,\n",
       "     1,\n",
       "     'If the league decides to force Donald Sterling to sell his half of the team, Shelly Sterling doesn\\'t know what he will do, but the possibility of him transferring full ownership to her is something she \"would love him to\" consider.     '),\n",
       "    (1,\n",
       "     1,\n",
       "     'Related: NBA Bans Clippers Owner Donald Sterling For Life     \"I haven\\'t discussed it with him or talked to him about it,\" she said.     '),\n",
       "    (1,\n",
       "     1,\n",
       "     'The lack of communication between Rochelle and Donald Sterling led Walters to question whether she plans to file for divorce.     ')],\n",
       "   [(1,\n",
       "     1,\n",
       "     'The lack of communication between Rochelle and Donald Sterling led Walters to question whether she plans to file for divorce.     '),\n",
       "    (1,\n",
       "     1,\n",
       "     '\"For the last 20 years, I\\'ve been seeing attorneys for a divorce,\" she said, laughing.')],\n",
       "   [(1, 1, 'I signed the petition for a divorce.'),\n",
       "    (1, 1, 'And it came to almost being filed.')],\n",
       "   [(1,\n",
       "     1,\n",
       "     'And then, my financial advisor and my attorney said to me, \\'Not now.\\'\"     '),\n",
       "    (1, 1, 'But she said \"Eventually, I\\'m going to.\"     '),\n",
       "    (1,\n",
       "     1,\n",
       "     'She also told Walters she thinks her estranged husband is suffering from \"the onset of dementia.\"     ')],\n",
       "   [(1,\n",
       "     1,\n",
       "     \"Since Donald Sterling's ban, several celebrities have said they would be willing to buy the team from Sterling, including Oprah Winfrey and Magic Johnson.\"),\n",
       "    (1,\n",
       "     1,\n",
       "     'Silver announced Friday that former Citigroup chairman and former Time Warner chairman Richard Parsons has been named interim CEO of the team, but nothing concrete in terms of ownership or whether Sterling will be forced to sell the team.'),\n",
       "    (1,\n",
       "     1,\n",
       "     \"Read: What You Need to Know This Week About Donald Sterling     ABC News contacted Donald Sterling for comment on his wife's interview, but he declined.\")],\n",
       "   [(1,\n",
       "     1,\n",
       "     \"Since Donald Sterling's ban, several celebrities have said they would be willing to buy the team from Sterling, including Oprah Winfrey and Magic Johnson.\"),\n",
       "    (1,\n",
       "     1,\n",
       "     \"Sterling remains the owner, though his ban means he can have nothing to do with running the team and can't attend any games.     \"),\n",
       "    (1,\n",
       "     1,\n",
       "     'Silver announced Friday that former Citigroup chairman and former Time Warner chairman Richard Parsons has been named interim CEO of the team, but nothing concrete in terms of ownership or whether Sterling will be forced to sell the team.'),\n",
       "    (1,\n",
       "     1,\n",
       "     \"Parsons will now take over the basic daily operations for the team and oversee the team's president.     \")]]]]"
      ]
     },
     "execution_count": 9,
     "metadata": {},
     "output_type": "execute_result"
    }
   ],
   "source": [
    "coref_resolve(documents_list)"
   ]
  },
  {
   "cell_type": "code",
   "execution_count": 1,
   "metadata": {},
   "outputs": [],
   "source": [
    "def compare_multidimensional_lists(list1, list2):\n",
    "     \"\"\"\n",
    "     比较两个多维列表的结构和对应的字符串元素是否相同。\n",
    "\n",
    "     Args:\n",
    "          list1, list2: 待比较的多维列表。\n",
    "\n",
    "     Returns:\n",
    "          bool: 如果两个列表结构和对应的字符串元素相同，返回 True；否则返回 False。\n",
    "     \"\"\"\n",
    "     # print(\"正在比較： \", list1, list2)\n",
    "     # 检查类型是否一致\n",
    "     if type(list1) != type(list2):\n",
    "          return False\n",
    "\n",
    "     # 如果是列表，递归比较每个元素\n",
    "     if isinstance(list1, list):\n",
    "          if not len(list1) == len(list2):\n",
    "               return False\n",
    "          return all(compare_multidimensional_lists(sub1, sub2) for sub1, sub2 in zip(list1, list2))\n",
    "\n",
    "     # 如果是字符串，直接比较值\n",
    "     if isinstance(list1, str) and isinstance(list2, str):\n",
    "          return list1 == list2\n",
    "     \n",
    "     # 如果是數值，直接比较值\n",
    "     if isinstance(list1, int) and isinstance(list2, int):\n",
    "          return list1 == list2\n",
    "     \n",
    "     # 如果是元组，比较元素数量和对应元素\n",
    "     if isinstance(list1, tuple) and isinstance(list2, tuple):\n",
    "          if len(list1) != len(list2):\n",
    "               return False\n",
    "          return all(compare_multidimensional_lists(sub1, sub2) for sub1, sub2 in zip(list1, list2))\n",
    "\n",
    "\n",
    "     # 对于其他类型，返回 False\n",
    "     return False\n"
   ]
  },
  {
   "cell_type": "code",
   "execution_count": null,
   "metadata": {},
   "outputs": [],
   "source": [
    "from utils.data_preprocess_utils import split_sentences, coref_resolve,load_jsonl, split_sentences2, baseline_split_sentences\n",
    "import time\n",
    "\n",
    "dataset, summary_list = load_jsonl(\"..\\data\\\\train_pro.jsonl\")\n",
    "start1_1 = time.time()\n",
    "result1_1 = split_sentences2(dataset)\n",
    "end1_1 = time.time()\n",
    "print(f\"split_sent: improved:. time cost:  {end1_1 - start1_1:.4f} s.\")\n",
    "\n",
    "start0 = time.time()\n",
    "result0 = baseline_split_sentences(dataset)\n",
    "end0 = time.time()\n",
    "print(f\"split_sent: single:. time cost:  {end0 - start0:.4f} s.\")\n",
    "\n",
    "print(compare_multidimensional_lists(result0, result1_1))  #應該 输出: True"
   ]
  },
  {
   "cell_type": "code",
   "execution_count": 2,
   "metadata": {},
   "outputs": [],
   "source": [
    "%load_ext autoreload\n",
    "%autoreload 2"
   ]
  },
  {
   "cell_type": "code",
   "execution_count": 3,
   "metadata": {},
   "outputs": [
    {
     "name": "stderr",
     "output_type": "stream",
     "text": [
      "e:\\anaconda\\envs\\coreferee_env\\lib\\site-packages\\tqdm\\auto.py:21: TqdmWarning: IProgress not found. Please update jupyter and ipywidgets. See https://ipywidgets.readthedocs.io/en/stable/user_install.html\n",
      "  from .autonotebook import tqdm as notebook_tqdm\n"
     ]
    },
    {
     "name": "stdout",
     "output_type": "stream",
     "text": [
      "60\n",
      "cr: improved:. time cost:  280.1604 s.\n",
      "cr: original:. time cost:  280.4574 s.\n",
      "True\n"
     ]
    }
   ],
   "source": [
    "from utils.data_preprocess_utils import coref_resolve2, coref_resolve, load_jsonl\n",
    "import time\n",
    "\n",
    "dataset, summary_list = load_jsonl(\"..\\data\\\\train_pro.jsonl\")\n",
    "print(len(dataset))\n",
    "start1_1 = time.time()\n",
    "result1_1 = coref_resolve2(dataset)\n",
    "end1_1 = time.time()\n",
    "print(f\"cr: improved:. time cost:  {end1_1 - start1_1:.4f} s.\")\n",
    "\n",
    "start0 = time.time()\n",
    "result0 = coref_resolve(dataset)\n",
    "end0 = time.time()\n",
    "print(f\"cr: original:. time cost:  {end0 - start0:.4f} s.\")\n",
    "\n",
    "print(compare_multidimensional_lists(result0, result1_1))  #應該 输出: True"
   ]
  },
  {
   "cell_type": "code",
   "execution_count": 11,
   "metadata": {},
   "outputs": [
    {
     "name": "stdout",
     "output_type": "stream",
     "text": [
      "reduced: time cost:  0.1907 s.\n",
      "ori: time cost:  0.2021 s.\n",
      "True\n"
     ]
    }
   ],
   "source": [
    "import spacy\n",
    "import time\n",
    "\n",
    "nlp0 = spacy.load(\"en_core_web_lg\", disable=[\"tagger\", \"ner\", \"lemmatizer\", \"attribute_ruler\"])\n",
    "nlp1 = spacy.load(\"en_core_web_lg\")\n",
    "\n",
    "doc = \"One homeowner is resorting to bartering for the latest iPhone as a tactic to sell a beleaguered property in Detroit. \\n \\n The owner has dropped the asking price on a three-bedroom home in east Detroit from $5,000 to a new iPhone 6 as the owner is desperate to sell ahead of the area’s tax auction season where \\\"thousands\\\" of homes near foreclosure will flood the market, real estate broker Larry Else told ABC News. \\n \\n \\\"This house is really not worth much at all,\\\" Else said. \\n \\n The windows are broken and there is no front door. The broker himself has not been inside the home because his company has a policy of not going in unsecured houses alone. Detroit's declining fortunes have been precipitous, with an exodus has that left its population about a third of what it used to be in its heyday, according to the U.S. Census Bureau. \\n \\n \\\"It's a little dicey,\\\" Else said of the neighborhood. \\n \\n The owner who proposed this unusual sale lives in Austria and has never lived in Detroit, and Else said that his client got ripped off the first time around. The owner, who is not sharing his name publicly, bought the home for $41,000 in 2010 after being told that he would make a quick profit by renting out the home. Little did he know that the person he bought it from had purchased the property just two weeks prior for only $10,500, Else said. \\n \\n \\\"Public records don't show up that fast,\\\" Else said of how his client didn't know that he was paying too much, adding that his client \\\"was a victim himself.\\\" \\n \\n Now, the property has accrued more than $6,000 in back taxes and will enter foreclosure next year if that debt is not settled. So while the owner is asking for an iPhone 6 -- or, he said he would also accept a 32GB iPad -- the true cost of the sale comes from the buyer assuming the cost of the back taxes. Else said that because he is selling the property as a quick claim deed, it would be up to the buyer to arrange either a payment plan or lump sum payment with county officials to settle the back taxes. \\n \\n That isn't deterring the new-found interest in the property, as Else said that he received four offers today alone, ranging in seriousness. \\n \\n One woman said she was \\\"interested in the house for the wood,\\\" Else said, explaining that the prospective buyer is apparently on a quest for white pine planks. Another bidder said that they would be willing to hand over an iPhone 5, and another offered $850 for the property, Else said. \\n \\n Else hinted that the most likely buyer is someone who already lives on the block and put in a $700 bid, but their familiarity with the area appeared to put them at the head of the pack. Else said that the area is \\\"full of similar houses. There’s lots of vacancy.\\\" \\n \\n He said he expects one of the four offers to work out, and may even finalize the sale tonight. \\n \\n This is not the end of his bartering business, however, as Else said that he's already gotten another call from a homeowner who has had trouble selling their property. \\n \\n \\\"I did get a call from a seller today who said 'We've been having a hard time selling our house. We have it listed for $20,000. Could I get a 1994 Chevy for this house?'\\\" Else said.\"\n",
    "start0 = time.time()\n",
    "res2 = nlp0(doc)\n",
    "res = [sent.text for sent in res2.sents]\n",
    "end0 = time.time()\n",
    "print(f\"reduced: time cost:  {end0 - start0:.4f} s.\")\n",
    "\n",
    "start1 = time.time()\n",
    "ori_res = nlp1(doc)\n",
    "res1 = [sent.text for sent in ori_res.sents]\n",
    "end1 = time.time()\n",
    "print(f\"ori: time cost:  {end1 - start1:.4f} s.\")\n",
    "\n",
    "print(compare_multidimensional_lists(res1, res))"
   ]
  }
 ],
 "metadata": {
  "kernelspec": {
   "display_name": "coreferee_env",
   "language": "python",
   "name": "python3"
  },
  "language_info": {
   "codemirror_mode": {
    "name": "ipython",
    "version": 3
   },
   "file_extension": ".py",
   "mimetype": "text/x-python",
   "name": "python",
   "nbconvert_exporter": "python",
   "pygments_lexer": "ipython3",
   "version": "3.9.21"
  }
 },
 "nbformat": 4,
 "nbformat_minor": 2
}
