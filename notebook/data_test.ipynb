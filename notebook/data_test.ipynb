{
 "cells": [
  {
   "cell_type": "code",
   "execution_count": 1,
   "metadata": {},
   "outputs": [],
   "source": [
    "import json"
   ]
  },
  {
   "cell_type": "code",
   "execution_count": 10,
   "metadata": {},
   "outputs": [
    {
     "name": "stdout",
     "output_type": "stream",
     "text": [
      "len should be: 40\n"
     ]
    }
   ],
   "source": [
    "def prepare_data_for_hetgnn_simplified(input_data_path, ouput_data_path, context_size=10, summary_size = 10):\n",
    "     \"\"\"_summary_\n",
    "\n",
    "     Args:\n",
    "          input_data_path (_type_): dataset path\n",
    "          ouput_data_path (_type_): output file path\n",
    "          context_size (int, optional): how many summary to be condensed into one doc. Defaults to 10.\n",
    "          summary_size (int, optional): total number of doc that used in this condensing progress. Defaults to 10.\n",
    "     \"\"\"\n",
    "\n",
    "     with open(input_data_path, 'r') as infile, open(ouput_data_path, 'w') as outfile:\n",
    "          summaries = []\n",
    "          summary_count = 0\n",
    "          summary_len = 0\n",
    "          for line in infile:\n",
    "               if(summary_count >= summary_size): break\n",
    "               \n",
    "               data = json.loads(line)\n",
    "               summary = data['summary']\n",
    "               summaries.extend(summary)\n",
    "               summary_count = summary_count + 1\n",
    "               summary_len = summary_len + len(summary)\n",
    "               \n",
    "\n",
    "          new_data = {\"text\": summaries, \"summary\": [], \"label\": []}\n",
    "          json.dump(new_data, outfile)\n",
    "          outfile.write(\"\\n\")\n",
    "          print(f\"len should be: {summary_len}\")\n",
    "\n",
    "# Check\n",
    "input_jsonl = \"../data/raw/cnndm/test.label.jsonl\"\n",
    "output_jsonl = \"../data/processed/cnndm/combined_doc_data_test.lable.jsonl\"\n",
    "prepare_data_for_hetgnn_simplified(input_jsonl, output_jsonl)"
   ]
  }
 ],
 "metadata": {
  "kernelspec": {
   "display_name": "Python 3",
   "language": "python",
   "name": "python3"
  },
  "language_info": {
   "codemirror_mode": {
    "name": "ipython",
    "version": 3
   },
   "file_extension": ".py",
   "mimetype": "text/x-python",
   "name": "python",
   "nbconvert_exporter": "python",
   "pygments_lexer": "ipython3",
   "version": "3.11.4"
  }
 },
 "nbformat": 4,
 "nbformat_minor": 2
}
