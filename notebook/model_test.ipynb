{
 "cells": [
  {
   "cell_type": "markdown",
   "metadata": {},
   "source": [
    "### SDS using RoBERTa model as extractive summary"
   ]
  },
  {
   "cell_type": "markdown",
   "metadata": {},
   "source": [
    "##### Too slow to load dataset and train model to test. Model Unit Test will be conducted on Colab.\n",
    "##### Colab file: (Personal) https://colab.research.google.com/drive/1zJSdQIN_e3gWmRNP7acYCmB2XF-Ckwm5#scrollTo=5K943ABRcuoi"
   ]
  },
  {
   "cell_type": "code",
   "execution_count": 1,
   "metadata": {},
   "outputs": [],
   "source": [
    "from models import SingleDocSummarizerBERT"
   ]
  },
  {
   "cell_type": "code",
   "execution_count": null,
   "metadata": {},
   "outputs": [],
   "source": [
    "### sentence split test\n",
    "import spacy\n",
    "\n",
    "nlp = spacy.load(\"en_core_web_sm\")  # or other language model\n",
    "\n",
    "text = \"This is sentence one. This is sentence two! And this is sentence three? This is 3.14. what is it-oh no~ nothing...\"\n",
    "doc = nlp(text)\n",
    "sentences = [sent.text.strip() for sent in doc.sents]\n",
    "\n",
    "print(sentences)"
   ]
  },
  {
   "cell_type": "code",
   "execution_count": 6,
   "metadata": {},
   "outputs": [
    {
     "name": "stdout",
     "output_type": "stream",
     "text": [
      "Expect summary:\n",
      "- Phoenix Jones, Seattle's self-styled superhero, retires from crime-fighting\n",
      "-      He cites financial and personal reasons for stepping away\n",
      "-         ones was known for breaking up fights in a black and gold costume\n",
      "-          Critics say he escalated conflicts; supporters admired his intentions\n",
      "- \n",
      "Actual suammry:\n",
      "- A man who dressed as a superhero to fight crime in Seattle has now hung up his cape.\n",
      "- Phoenix Jones, a self-styled superhero and founder of the Rain City Superhero Movement, \n",
      "announced on Facebook that he will no longer patrol the streets.\n",
      "- Jones, who became known for \n",
      "his black and gold costume and for breaking up fights, says he can no longer justify the time \n",
      "and expense involved in his work.\n",
      "- 'As much as I cared about making change in the world, it was too costly for me to keep going,' \n",
      "he wrote in a Facebook post.\n",
      "- Jones made headlines in 2011 when he pepper-sprayed a group of men he claimed were fighting \n",
      "outside a nightclub in Seattle.\n",
      "- The Rain City Superhero Movement, a group of masked activists inspired by comic book heroes, \n",
      "has dwindled in numbers since Jones' departure.\n"
     ]
    }
   ],
   "source": [
    "text_doc = \"\"\"\n",
    "A man who dressed as a superhero to fight crime in Seattle has now hung up his cape. \n",
    "Phoenix Jones, a self-styled superhero and founder of the Rain City Superhero Movement, \n",
    "announced on Facebook that he will no longer patrol the streets. Jones, who became known for \n",
    "his black and gold costume and for breaking up fights, says he can no longer justify the time \n",
    "and expense involved in his work.\n",
    "\n",
    "'As much as I cared about making change in the world, it was too costly for me to keep going,' \n",
    "he wrote in a Facebook post. 'I'm just a man who was trying to make a difference. But now I \n",
    "need to focus on my family and my future.'\n",
    "\n",
    "Jones made headlines in 2011 when he pepper-sprayed a group of men he claimed were fighting \n",
    "outside a nightclub in Seattle. Critics said he escalated the situation, while supporters \n",
    "praised him for trying to keep the peace.\n",
    "\n",
    "The Rain City Superhero Movement, a group of masked activists inspired by comic book heroes, \n",
    "has dwindled in numbers since Jones' departure. \n",
    "\"\"\"\n",
    "\n",
    "roBERTa_model = SingleDocSummarizerBERT(text_doc)\n",
    "summary_single_doc = roBERTa_model.get_top_k_sentences()\n",
    "\n",
    "label_summary = \"Phoenix Jones, Seattle's self-styled superhero, retires from crime-fighting. \\\n",
    "    He cites financial and personal reasons for stepping away.\\\n",
    "        ones was known for breaking up fights in a black and gold costume. \\\n",
    "        Critics say he escalated conflicts; supporters admired his intentions.\"\n",
    "print(\"Expect summary:\")\n",
    "for sentence1 in label_summary.split(\".\"):\n",
    "    print(f\"- {sentence1}\")\n",
    "    \n",
    "print(\"Actual suammry:\")\n",
    "for sentence in summary_single_doc:\n",
    "    print(f\"- {sentence}\")"
   ]
  }
 ],
 "metadata": {
  "kernelspec": {
   "display_name": "Python 3",
   "language": "python",
   "name": "python3"
  },
  "language_info": {
   "codemirror_mode": {
    "name": "ipython",
    "version": 3
   },
   "file_extension": ".py",
   "mimetype": "text/x-python",
   "name": "python",
   "nbconvert_exporter": "python",
   "pygments_lexer": "ipython3",
   "version": "3.11.4"
  }
 },
 "nbformat": 4,
 "nbformat_minor": 2
}
